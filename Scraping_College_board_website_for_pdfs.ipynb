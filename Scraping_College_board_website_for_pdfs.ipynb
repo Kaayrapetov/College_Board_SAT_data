{
 "cells": [
  {
   "cell_type": "code",
   "execution_count": 6,
   "id": "26cc2aef",
   "metadata": {},
   "outputs": [],
   "source": [
    "import requests\n",
    "from bs4 import BeautifulSoup\n",
    "import os"
   ]
  },
  {
   "cell_type": "code",
   "execution_count": null,
   "id": "af00365b",
   "metadata": {},
   "outputs": [],
   "source": [
    "#The following code downloads the pdf's from college board website containing state level SAT data into a directory called \"data\" "
   ]
  },
  {
   "cell_type": "code",
   "execution_count": 7,
   "id": "cf7bc108",
   "metadata": {},
   "outputs": [],
   "source": [
    "# Send an HTTP request to the website\n",
    "url = 'https://reports.collegeboard.org/sat-suite-program-results/data-archive'\n",
    "response = requests.get(url)"
   ]
  },
  {
   "cell_type": "code",
   "execution_count": 8,
   "id": "91edc573",
   "metadata": {},
   "outputs": [],
   "source": [
    "# Parse the HTML content using BeautifulSoup\n",
    "soup = BeautifulSoup(response.content, 'html.parser')"
   ]
  },
  {
   "cell_type": "code",
   "execution_count": 9,
   "id": "216da84a",
   "metadata": {},
   "outputs": [],
   "source": [
    "# Find all the links to the PDF files\n",
    "links = soup.find_all('a', href=lambda href: href.endswith('.pdf'))"
   ]
  },
  {
   "cell_type": "code",
   "execution_count": 10,
   "id": "a12d905b",
   "metadata": {},
   "outputs": [],
   "source": [
    "# Create a directory to save the PDF files\n",
    "os.makedirs('data', exist_ok=True)"
   ]
  },
  {
   "cell_type": "code",
   "execution_count": 11,
   "id": "8347cda8",
   "metadata": {},
   "outputs": [],
   "source": [
    "# Download each PDF file\n",
    "for link in links:\n",
    "    pdf_url = link['href']\n",
    "    if not pdf_url.startswith('http'):\n",
    "        pdf_url = 'https://reports.collegeboard.org' + pdf_url\n",
    "    filename = os.path.join('data', pdf_url.split('/')[-1])\n",
    "    response = requests.get(pdf_url)\n",
    "    with open(filename, 'wb') as f:\n",
    "        f.write(response.content)"
   ]
  },
  {
   "cell_type": "code",
   "execution_count": null,
   "id": "51418007",
   "metadata": {},
   "outputs": [],
   "source": []
  }
 ],
 "metadata": {
  "kernelspec": {
   "display_name": "Python 3 (ipykernel)",
   "language": "python",
   "name": "python3"
  },
  "language_info": {
   "codemirror_mode": {
    "name": "ipython",
    "version": 3
   },
   "file_extension": ".py",
   "mimetype": "text/x-python",
   "name": "python",
   "nbconvert_exporter": "python",
   "pygments_lexer": "ipython3",
   "version": "3.9.7"
  }
 },
 "nbformat": 4,
 "nbformat_minor": 5
}
